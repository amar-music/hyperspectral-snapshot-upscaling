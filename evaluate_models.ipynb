{
 "cells": [
  {
   "cell_type": "markdown",
   "metadata": {},
   "source": [
    "# Evaluate Model Performance\n",
    "Evalute model perfomance using the following metrics:\n",
    "- Peak Signal to Noise Ratio (PSNR)\n",
    "- Structural Similarity Index (SSIM)\n",
    "- Spectral Angle Mapper (SAM)\n",
    "- Spectral Correlation Coefficient (SCC)\n",
    "- Mean Absolute Spectral Error (MASE)"
   ]
  },
  {
   "cell_type": "code",
   "execution_count": 4,
   "metadata": {},
   "outputs": [
    {
     "name": "stdout",
     "output_type": "stream",
     "text": [
      "Mean PSNR SR:  21.8187\n",
      "Mean PSNR BI:  18.739\n",
      "Mean SSIM SR:  0.7464\n",
      "Mean SSIM BI:  0.493\n"
     ]
    }
   ],
   "source": [
    "import os\n",
    "import cv2\n",
    "from skimage.metrics import peak_signal_noise_ratio as psnr\n",
    "from skimage.metrics import structural_similarity as ssim\n",
    "import pandas as pd\n",
    "\n",
    "def compute_metrics(root_dir, upscale_method):\n",
    "    hr_path = root_dir + \"hr/\"\n",
    "    sr_path = root_dir + upscale_method + \"/\"\n",
    "    scores = []\n",
    "    img_id_list = os.listdir(hr_path)\n",
    "    for img_id in img_id_list:\n",
    "        img_hr = cv2.imread(os.path.join(hr_path, img_id))\n",
    "        img_sr = cv2.imread(os.path.join(sr_path, img_id))\n",
    "        psnr_value = psnr(img_hr, img_sr)\n",
    "        ssim_value = ssim(img_hr, img_sr, channel_axis=2)\n",
    "        scores.append({'Image_ID': img_id, 'PSNR': psnr_value, 'SSIM': ssim_value})\n",
    "\n",
    "    return pd.DataFrame(scores)\n",
    "\n",
    "\n",
    "\n",
    "# Choose model to evaluate\n",
    "model = \"HSI_grayimages_x2_5000\"\n",
    "data_dir = \"results/\" + model + \"/\"\n",
    "\n",
    "# Scores for SR and bicubic in a dataframe\n",
    "df_sr = compute_metrics(root_dir=data_dir, upscale_method=\"sr\")\n",
    "df_bi = compute_metrics(root_dir=data_dir, upscale_method=\"bi_480\")\n",
    "\n",
    "# Merge the two dataframes\n",
    "df_full = pd.merge(df_sr, df_bi, on='Image_ID', suffixes=('_SR', '_BI'))\n",
    "\n",
    "# Save the mean scores to txt\n",
    "with open(data_dir + model + \"_means.txt\", \"w\") as f:\n",
    "    f.write(\"SR_PSNR: \" + str(round(df_full['PSNR_SR'].mean(), 4)) + \"\\n\")\n",
    "    f.write(\"BI_PSNR: \" + str(round(df_full['PSNR_BI'].mean(), 4)) + \"\\n\")\n",
    "    f.write(\"SR_SSIM: \" + str(round(df_full['SSIM_SR'].mean(), 4)) + \"\\n\")\n",
    "    f.write(\"BI_SSIM: \" + str(round(df_full['SSIM_BI'].mean(), 4)) + \"\\n\")\n",
    "\n",
    "# Print mean of SR and BI\n",
    "print(\"Mean PSNR SR: \", round(df_full['PSNR_SR'].mean(), 4))\n",
    "print(\"Mean PSNR BI: \", round(df_full['PSNR_BI'].mean(), 4))\n",
    "print(\"Mean SSIM SR: \", round(df_full['SSIM_SR'].mean(), 4))\n",
    "print(\"Mean SSIM BI: \", round(df_full['SSIM_BI'].mean(), 4))\n",
    "\n",
    "# Save the dataframe to a csv file\n",
    "df_full.to_csv(data_dir + model + \"_scores.csv\", index=False)"
   ]
  }
 ],
 "metadata": {
  "kernelspec": {
   "display_name": ".venv",
   "language": "python",
   "name": "python3"
  },
  "language_info": {
   "codemirror_mode": {
    "name": "ipython",
    "version": 3
   },
   "file_extension": ".py",
   "mimetype": "text/x-python",
   "name": "python",
   "nbconvert_exporter": "python",
   "pygments_lexer": "ipython3",
   "version": "3.10.12"
  }
 },
 "nbformat": 4,
 "nbformat_minor": 2
}
