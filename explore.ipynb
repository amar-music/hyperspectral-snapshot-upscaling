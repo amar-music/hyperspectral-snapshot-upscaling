{
 "cells": [
  {
   "cell_type": "markdown",
   "metadata": {},
   "source": [
    "# Load Images"
   ]
  },
  {
   "cell_type": "markdown",
   "metadata": {},
   "source": [
    "## Import and preview hrHSI"
   ]
  },
  {
   "cell_type": "code",
   "execution_count": null,
   "metadata": {},
   "outputs": [],
   "source": [
    "from preprocessing import preprocessHrHSI\n",
    "\n",
    "# Specify paths\n",
    "hr_path = \"data/FX10/\"\n",
    "hr_mtx_path = 'data/FX10/2D/hrHSI_matrix.npy'\n",
    "hr_dist_path = 'data/FX10/2D/hrHSI_dist.npy'\n",
    "\n",
    "# Load and preprocess file\n",
    "hr_file = preprocessHrHSI(hr_path + \"leaf_test1.hdf5\", hr_mtx_path, hr_dist_path)\n",
    "\n",
    "# Store to variables\n",
    "hr_img = hr_file[0]\n",
    "hr_wavelengths = hr_file[1]"
   ]
  },
  {
   "cell_type": "code",
   "execution_count": null,
   "metadata": {},
   "outputs": [],
   "source": [
    "from preprocessing import previewHrHSI\n",
    "\n",
    "# Select pixel and spectrum to highlight\n",
    "hr_selected_pixel = (650, 650)\n",
    "hr_selected_spectrum = 120\n",
    "\n",
    "# Preview\n",
    "previewHrHSI(hr_img, hr_wavelengths, hr_selected_pixel, hr_selected_spectrum)"
   ]
  },
  {
   "cell_type": "markdown",
   "metadata": {},
   "source": [
    "## Import and preview snapshot"
   ]
  },
  {
   "cell_type": "code",
   "execution_count": null,
   "metadata": {},
   "outputs": [],
   "source": [
    "from preprocessing import preprocessSnapshot\n",
    "\n",
    "# Specify paths\n",
    "ss_path = \"data/Snapshot/leaf_test_processed/leaf_test/\"\n",
    "ss_mtx_path = 'data/Snapshot/2D/snapshot_matrix.npy'\n",
    "ss_dist_path = 'data/Snapshot/2D/snapshot_dist.npy'\n",
    "\n",
    "# Load and preprocess file\n",
    "ss_file = preprocessSnapshot(ss_path, ss_mtx_path, ss_dist_path)\n",
    "\n",
    "# Store to variables\n",
    "ss_img = ss_file[0]\n",
    "ss_wavelengths = ss_file[1]"
   ]
  },
  {
   "cell_type": "code",
   "execution_count": null,
   "metadata": {},
   "outputs": [],
   "source": [
    "from preprocessing import previewSnapshot\n",
    "\n",
    "# Select pixel and spectrum to highlight\n",
    "ss_selected_pixel = (75, 210)\n",
    "ss_selected_spectrum = 20\n",
    "\n",
    "# Preview\n",
    "previewSnapshot(ss_img, ss_wavelengths, ss_selected_pixel, ss_selected_spectrum)"
   ]
  },
  {
   "cell_type": "markdown",
   "metadata": {},
   "source": [
    "## Compare hrHSI and Snapshot"
   ]
  },
  {
   "cell_type": "code",
   "execution_count": null,
   "metadata": {},
   "outputs": [],
   "source": [
    "from preprocessing import preprocessHrHSI\n",
    "\n",
    "# Specify paths\n",
    "# hr_path = \"data/FX10/calibration0\"\n",
    "hr_path = \"data/FX10/align\"\n",
    "hr_mtx_path = 'data/FX10/2D/hrHSI_matrix.npy'\n",
    "hr_dist_path = 'data/FX10/2D/hrHSI_dist.npy'\n",
    "\n",
    "# Load and preprocess file\n",
    "hr_file = preprocessHrHSI(hr_path + \".hdf5\", hr_mtx_path, hr_dist_path)\n",
    "hr_img = hr_file[0]\n",
    "hr_wavelengths = hr_file[1]"
   ]
  },
  {
   "cell_type": "code",
   "execution_count": null,
   "metadata": {},
   "outputs": [],
   "source": [
    "from preprocessing import preprocessSnapshot\n",
    "\n",
    "# Specify paths\n",
    "# ss_path = \"data/Snapshot/calibration_processed/calibration0/\"\n",
    "# ss_path = \"data/Snapshot/spelt_l_processed/spelt0/\"\n",
    "ss_path = \"data/Snapshot/align_processed/align/\"\n",
    "ss_mtx_path = 'data/Snapshot/2D/snapshot_matrix.npy'\n",
    "ss_dist_path = 'data/Snapshot/2D/snapshot_dist.npy'\n",
    "\n",
    "# Load and preprocess file\n",
    "ss_file = preprocessSnapshot(ss_path, ss_mtx_path, ss_dist_path)\n",
    "ss_img = ss_file[0]\n",
    "ss_wavelengths = ss_file[1]"
   ]
  },
  {
   "cell_type": "code",
   "execution_count": null,
   "metadata": {},
   "outputs": [],
   "source": [
    "from align_images import align_images, plot_image_comparison\n",
    "\n",
    "# Set offsets and rotations\n",
    "x_off = (85, 1020)   # Full: (0, 1084)\n",
    "y_off = (195, 710)   # Full: (0, 1015)\n",
    "hr_rot = 0.2\n",
    "ss_rot = 0\n",
    "\n",
    "\n",
    "# Align images\n",
    "hr_img_al, ss_img_al = align_images(hr_img=hr_img,\n",
    "                                    ss_img=ss_img, \n",
    "                                    x_off=x_off, \n",
    "                                    y_off=y_off,\n",
    "                                    hr_rot=hr_rot,\n",
    "                                    ss_rot=ss_rot)\n",
    "\n",
    "# Plot image comparison\n",
    "plot_image_comparison(hr_img=hr_img_al, \n",
    "                      hr_wavelengths=hr_wavelengths, \n",
    "                      ss_img=ss_img_al, \n",
    "                      ss_wavelengths=ss_wavelengths, \n",
    "                      selected_pixel=(75, 210),\n",
    "                      selected_spectrum=715)"
   ]
  },
  {
   "cell_type": "code",
   "execution_count": null,
   "metadata": {},
   "outputs": [],
   "source": [
    "# Compare resolutions\n",
    "print(\"HrHSI:\", hr_img_al.shape)\n",
    "print(\"Shapshot:\", ss_img_al.shape)\n",
    "print(\"\\n\")\n",
    "\n",
    "# Compare aspect ratio\n",
    "print(\"HrHSI:\", round(hr_img_al.shape[1] / hr_img_al.shape[0], 2))\n",
    "print(\"Shapshot:\", round(ss_img_al.shape[1] / ss_img_al.shape[0], 2))"
   ]
  },
  {
   "cell_type": "markdown",
   "metadata": {},
   "source": [
    "## Select the 24 wavelengths present in the snapshot"
   ]
  },
  {
   "cell_type": "code",
   "execution_count": null,
   "metadata": {},
   "outputs": [],
   "source": [
    "import numpy as np\n",
    "\n",
    "# Get indexes of hr_wavelengths that are present in ss_wavelengths (if no exact match, get closest)\n",
    "hr_wavelengths_idx = []\n",
    "for i in range(len(ss_wavelengths)):\n",
    "    idx = (np.abs(np.array(hr_wavelengths) - np.array(ss_wavelengths[i]))).argmin()\n",
    "    hr_wavelengths_idx.append(idx)\n",
    "\n",
    "print(hr_wavelengths_idx)\n",
    "\n",
    "# Filter hr_wavelenghts by index hr_wavelegths_idx\n",
    "hr_wavelengths_filtered = [hr_wavelengths[i] for i in hr_wavelengths_idx]\n",
    "\n",
    "print(hr_wavelengths_filtered)"
   ]
  },
  {
   "cell_type": "code",
   "execution_count": null,
   "metadata": {},
   "outputs": [],
   "source": [
    "hr_img_al_shp = hr_img_al[:, :, hr_wavelengths_idx]\n",
    "hr_img_al_shp.shape"
   ]
  },
  {
   "cell_type": "markdown",
   "metadata": {},
   "source": [
    "# Explore processed files"
   ]
  },
  {
   "cell_type": "code",
   "execution_count": null,
   "metadata": {},
   "outputs": [],
   "source": [
    "# Read numpy file\n",
    "import numpy as np\n",
    "hr_img_2 = np.load('data/Processed/leaf_test1_s.npy')\n",
    "\n",
    "# Plot image\n",
    "import matplotlib.pyplot as plt\n",
    "plt.imshow(hr_img_2[:, :, 3])\n",
    "plt.show()"
   ]
  },
  {
   "cell_type": "code",
   "execution_count": null,
   "metadata": {},
   "outputs": [],
   "source": [
    "plt.imshow(ss_img[:, :, 3])\n",
    "plt.show()"
   ]
  }
 ],
 "metadata": {
  "kernelspec": {
   "display_name": ".venv",
   "language": "python",
   "name": "python3"
  },
  "language_info": {
   "codemirror_mode": {
    "name": "ipython",
    "version": 3
   },
   "file_extension": ".py",
   "mimetype": "text/x-python",
   "name": "python",
   "nbconvert_exporter": "python",
   "pygments_lexer": "ipython3",
   "version": "3.11.6"
  }
 },
 "nbformat": 4,
 "nbformat_minor": 2
}
