{
 "cells": [
  {
   "cell_type": "markdown",
   "metadata": {},
   "source": [
    "# Load Images"
   ]
  },
  {
   "cell_type": "markdown",
   "metadata": {},
   "source": [
    "## Compare hrHSI and Snapshot"
   ]
  },
  {
   "cell_type": "markdown",
   "metadata": {},
   "source": [
    "### Load HrHSI"
   ]
  },
  {
   "cell_type": "code",
   "execution_count": null,
   "metadata": {},
   "outputs": [],
   "source": [
    "from preprocessing import preprocessHrHSI\n",
    "\n",
    "# Specify paths\n",
    "hr_path = \"data/FX10/corn_m3\"\n",
    "hr_mtx_path = 'calibration/hrHSI_matrix.npy'\n",
    "hr_dist_path = 'calibration/hrHSI_dist.npy'\n",
    "\n",
    "# Load and preprocess file\n",
    "hr_file = preprocessHrHSI(hr_path + \".hdf5\", hr_mtx_path, hr_dist_path)\n",
    "hr_img = hr_file[0]\n",
    "hr_wavelengths = hr_file[1]"
   ]
  },
  {
   "cell_type": "code",
   "execution_count": null,
   "metadata": {},
   "outputs": [],
   "source": [
    "# Preview hrHSI\n",
    "from preprocessing import previewHrHSI\n",
    "previewHrHSI(hr_img, hr_wavelengths, \n",
    "             selected_pixel=(500, 500),\n",
    "             selected_spectrum=200)"
   ]
  },
  {
   "cell_type": "markdown",
   "metadata": {},
   "source": [
    "### Load Snapshot"
   ]
  },
  {
   "cell_type": "code",
   "execution_count": null,
   "metadata": {},
   "outputs": [],
   "source": [
    "from preprocessing import preprocessSnapshot\n",
    "\n",
    "# Specify paths\n",
    "ss_path = \"data/Snapshot/processed/train/corn_m3/\"\n",
    "ss_mtx_path = 'calibration/snapshot_matrix.npy'\n",
    "ss_dist_path = 'calibration/snapshot_dist.npy'\n",
    "ss_x_off = (0, 405)\n",
    "ss_y_off = (0, 214)\n",
    "\n",
    "# Load and preprocess file\n",
    "ss_file = preprocessSnapshot(ss_path, ss_mtx_path, ss_dist_path, ss_x_off, ss_y_off)\n",
    "ss_img = ss_file[0]\n",
    "ss_wavelengths = ss_file[1]"
   ]
  },
  {
   "cell_type": "code",
   "execution_count": null,
   "metadata": {},
   "outputs": [],
   "source": [
    "# Preview snapshot\n",
    "from preprocessing import previewSnapshot\n",
    "previewSnapshot(ss_img, ss_wavelengths, \n",
    "                 selected_pixel=(100, 150),\n",
    "                 selected_spectrum=12)\n",
    "\n",
    "ss_img.shape"
   ]
  },
  {
   "cell_type": "markdown",
   "metadata": {},
   "source": [
    "### Compare images"
   ]
  },
  {
   "cell_type": "code",
   "execution_count": null,
   "metadata": {},
   "outputs": [],
   "source": [
    "from align_images import align_images, plot_image_comparison\n",
    "\n",
    "# Set offsets and rotations\n",
    "hr_x_off = (106, 1018)   # Full: (0, 1084) # Previous: (104, 1019)\n",
    "hr_y_off = (189, 720)   # Full: (0, 1015) # Previous: (189, 720)\n",
    "rot = -0.2\n",
    "shear = 0.017\n",
    "# rot = 0\n",
    "# shear = 0\n",
    "\n",
    "ss_x_off = (3, 402)\n",
    "ss_y_off = (2, 212)\n",
    "\n",
    "\n",
    "# Align images\n",
    "hr_img_al, ss_img_al = align_images(hr_img=hr_img,\n",
    "                                    ss_img=ss_img, \n",
    "                                    ss_x_off=ss_x_off,\n",
    "                                    ss_y_off=ss_y_off,\n",
    "                                    hr_x_off=hr_x_off, \n",
    "                                    hr_y_off=hr_y_off,\n",
    "                                    rot=rot,\n",
    "                                    shear=shear)\n",
    "\n",
    "\n",
    "\n",
    "\n",
    "# Plot image comparison\n",
    "plot_image_comparison(hr_img=hr_img_al, \n",
    "                      hr_wavelengths=hr_wavelengths, \n",
    "                      ss_img=ss_img_al, \n",
    "                      ss_wavelengths=ss_wavelengths, \n",
    "                      selected_pixel=(115, 220),\n",
    "                      selected_spectrum=715)"
   ]
  },
  {
   "cell_type": "markdown",
   "metadata": {},
   "source": [
    "## Compare aspect ratios"
   ]
  },
  {
   "cell_type": "code",
   "execution_count": null,
   "metadata": {},
   "outputs": [],
   "source": [
    "# Compare resolutions\n",
    "print(\"HrHSI:\", hr_img_al.shape)\n",
    "print(\"Shapshot:\", ss_img_al.shape)\n",
    "print(\"\\n\")\n",
    "\n",
    "# Compare aspect ratio\n",
    "print(\"HrHSI:\", round(hr_img_al.shape[1] / hr_img_al.shape[0], 6))\n",
    "print(\"Shapshot:\", round(ss_img_al.shape[1] / ss_img_al.shape[0], 6))\n",
    "\n",
    "# Difference between aspect ratios\n",
    "print(\"Difference:\", round((hr_img_al.shape[1] / hr_img_al.shape[0]) - (ss_img_al.shape[1] / ss_img_al.shape[0]), 6))"
   ]
  },
  {
   "cell_type": "markdown",
   "metadata": {},
   "source": [
    "# Compare Fully Processed Images"
   ]
  },
  {
   "cell_type": "markdown",
   "metadata": {},
   "source": [
    "### Load hrHSI and go through full preprocessing pipeline"
   ]
  },
  {
   "cell_type": "code",
   "execution_count": null,
   "metadata": {},
   "outputs": [],
   "source": [
    "from preprocessing import preprocessFullHSI\n",
    "import matplotlib.pyplot as plt\n",
    "\n",
    "# Specify paths\n",
    "hr_path = 'data/FX10/spelt_s3.hdf5'\n",
    "hr_mtx_path = 'calibration/hrHSI_matrix.npy'\n",
    "hr_dist_path = 'calibration/hrHSI_dist.npy'\n",
    "\n",
    "# Snapshot dimensions and wavelengths\n",
    "# ss_shape = (210, 399, 24)\n",
    "ss_shape = (210, 210, 24) # Square\n",
    "ss_wavelengths = [667, 679, 691, 703, 715, \n",
    "                  727, 739, 751, 763, 775, \n",
    "                  787, 799, 811, 823, 835, \n",
    "                  847, 859, 871, 883, 895, \n",
    "                  907, 919, 931, 943]\n",
    "\n",
    "\n",
    "# Set offsets and rotations\n",
    "# hr_x_off = (106, 1018)   # Full: (0, 1084)\n",
    "# hr_y_off = (189, 720)    # Full: (0, 1015)\n",
    "hr_x_off = (110, 590)   # Square\n",
    "hr_y_off = (191, 719)   # Square\n",
    "rot = -0.3\n",
    "shear = 0.02\n",
    "# rot = -0.2\n",
    "# shear = 0.017\n",
    "\n",
    "# Load and preprocess file\n",
    "hr_file = preprocessFullHSI(path_to_hdf5=hr_path, \n",
    "                            mtx_path=hr_mtx_path, \n",
    "                            dist_path=hr_dist_path, \n",
    "                            hr_x_off=hr_x_off, \n",
    "                            hr_y_off=hr_y_off, \n",
    "                            rot=rot, \n",
    "                            shear=shear, \n",
    "                            ss_shape=ss_shape, \n",
    "                            ss_wavelengths=ss_wavelengths)\n",
    "hr_img = hr_file[0]\n",
    "hr_wavelengths = hr_file[1]\n",
    "\n",
    "# Display image\n",
    "plt.imshow(hr_img[:, :, 3])\n",
    "plt.show()\n",
    "\n",
    "print(hr_img.shape)"
   ]
  },
  {
   "cell_type": "markdown",
   "metadata": {},
   "source": [
    "### Load snapshot"
   ]
  },
  {
   "cell_type": "code",
   "execution_count": null,
   "metadata": {},
   "outputs": [],
   "source": [
    "from preprocessing import preprocessSnapshot\n",
    "import matplotlib.pyplot as plt\n",
    "\n",
    "# Specify paths\n",
    "ss_path = \"data/Snapshot/processed/train/spelt_s3/\"\n",
    "ss_mtx_path = 'calibration/snapshot_matrix.npy'\n",
    "ss_dist_path = 'calibration/snapshot_dist.npy'\n",
    "\n",
    "# Load and preprocess file\n",
    "# ss_x_off = (3, 402)\n",
    "# ss_y_off = (2, 212)\n",
    "ss_x_off = (3, 213)\n",
    "ss_y_off = (2, 212)\n",
    "\n",
    "ss_file = preprocessSnapshot(ss_path, ss_mtx_path, ss_dist_path, ss_x_off, ss_y_off)\n",
    "\n",
    "# Store to variables\n",
    "ss_img = ss_file[0]\n",
    "ss_wavelengths = ss_file[1]\n",
    "\n",
    "\n",
    "plt.imshow(ss_img[:, :, 3])\n",
    "plt.show()\n",
    "\n",
    "print(ss_img.shape)"
   ]
  },
  {
   "cell_type": "markdown",
   "metadata": {},
   "source": [
    "### Show side by side comparison"
   ]
  },
  {
   "cell_type": "code",
   "execution_count": null,
   "metadata": {},
   "outputs": [],
   "source": [
    "from align_images import plot_image_comparison\n",
    "\n",
    "# Plot image comparison\n",
    "plot_image_comparison(hr_img=hr_img, \n",
    "                      hr_wavelengths=hr_wavelengths, \n",
    "                      ss_img=ss_img, \n",
    "                      ss_wavelengths=ss_wavelengths, \n",
    "                      selected_pixel=(100, 100),\n",
    "                      selected_spectrum=800)"
   ]
  },
  {
   "cell_type": "code",
   "execution_count": null,
   "metadata": {},
   "outputs": [],
   "source": [
    "print(ss_img.shape)\n",
    "print(hr_img.shape)\n",
    "\n",
    "# Print aspect ratio\n",
    "print(\"HrHSI:\", round(hr_img.shape[1] / hr_img.shape[0], 6))\n",
    "print(\"Shapshot:\", round(ss_img.shape[1] / ss_img.shape[0], 6))"
   ]
  },
  {
   "cell_type": "markdown",
   "metadata": {},
   "source": [
    "# Compare fully-processed files"
   ]
  },
  {
   "cell_type": "code",
   "execution_count": null,
   "metadata": {},
   "outputs": [],
   "source": [
    "import numpy as np\n",
    "\n",
    "# List of all grains\n",
    "grains = [\"spelt\", \"rye\", \"flax\", \"wheatgrass\", \"pumpkin\", \"sunflower\", \n",
    "          \"flaxb\", \"buckwheat\", \"millet\", \"barley\", \"mix\", \"corn\"]\n",
    "\n",
    "# Select image\n",
    "image_id = \"pumpkin_s3\"\n",
    "\n",
    "train_img = np.load(\"data/processed/full_hsi/lr/\" + image_id + \".npy\")\n",
    "val_img = np.load(\"data/processed/full_hsi/hr/\" + image_id + \".npy\")\n",
    "\n",
    "\n",
    "# Plot images next to each other\n",
    "import matplotlib.pyplot as plt\n",
    "\n",
    "# Plot\n",
    "fig, axs = plt.subplots(1, 2, figsize=(10, 4))\n",
    "# plt.tight_layout()\n",
    "fig.suptitle(image_id, fontsize=16)\n",
    "axs[0].axis('off')\n",
    "axs[1].axis('off')\n",
    "axs[0].imshow(train_img[:, :, 10])\n",
    "axs[1].imshow(val_img[:, :, 10])\n",
    "axs[0].set_title(\"Train (Snapshot)\")\n",
    "axs[1].set_title(\"Val (hrHSI)\")\n",
    "plt.show()\n",
    "\n",
    "# Print aspect ratios\n",
    "print(\"Train:\", round(train_img.shape[1] / train_img.shape[0], 6))\n",
    "print(\"Val:\", round(val_img.shape[1] / val_img.shape[0], 6))\n",
    "\n",
    "# Print shapes\n",
    "print(\"Train:\", train_img.shape)\n",
    "print(\"Val:\", val_img.shape)"
   ]
  },
  {
   "cell_type": "code",
   "execution_count": null,
   "metadata": {},
   "outputs": [],
   "source": [
    "# print(val_img)\n",
    "print(train_img.shape)"
   ]
  },
  {
   "cell_type": "code",
   "execution_count": null,
   "metadata": {},
   "outputs": [],
   "source": [
    "import cv2 as cv\n",
    "import numpy as np\n",
    "import os\n",
    "\n",
    "def npy_to_rgb(input_folder, target_folder):\n",
    "\n",
    "    # List all images in the folder\n",
    "    inputs = os.listdir(input_folder)\n",
    "    print(inputs)\n",
    "\n",
    "    for file_name in inputs:\n",
    "        # Read the image using OpenCV\n",
    "        image = np.load(input_folder + file_name)\n",
    "        \n",
    "        # Select only 3 channels\n",
    "        rgb_array = image[:, :, [0, 12, 23]] * 255\n",
    "\n",
    "        # Save the npy file in target folder\n",
    "        # np.save(target_folder + file_name.split('/')[-1][:-4] + \".npy\", rgb_array)\n",
    "\n",
    "        # Save the image as a jpg file\n",
    "        cv.imwrite(target_folder + file_name.split('/')[-1][:-4] + \".jpg\", rgb_array)\n",
    "\n",
    "\n",
    "# Example usage\n",
    "# input_folder = \"data/processed/bicubic_480/\"\n",
    "input_folder = \"data/processed/full_hsi/bi_240/\"\n",
    "# target_folder = \"data/processed/rgb_array/bi_480/\"\n",
    "target_folder = \"data/processed/rgb_array/bi_240_jpg/\"\n",
    "rgb_array = npy_to_rgb(input_folder, target_folder)"
   ]
  },
  {
   "cell_type": "markdown",
   "metadata": {},
   "source": [
    "# Loop over all images to check for corruption"
   ]
  },
  {
   "cell_type": "code",
   "execution_count": null,
   "metadata": {},
   "outputs": [],
   "source": [
    "import numpy as np\n",
    "import cv2 as cv\n",
    "\n",
    "# List of all grains\n",
    "grains = [\"spelt\", \"rye\", \"flax\", \"wheatgrass\", \"pumpkin\", \"sunflower\", \n",
    "          \"flaxb\", \"buckwheat\", \"millet\", \"barley\", \"mix\", \"corn\"]\n",
    "densities = [\"s\", \"m\", \"l\"]\n",
    "img_nos = [0, 1, 2, 3, 4]\n",
    "\n",
    "\n",
    "for f in grains:\n",
    "    for d in densities:\n",
    "        for i in img_nos:\n",
    "            image_id = f + \"_\" + d + str(i)\n",
    "            train_img = np.load(\"data/Processed/train/\" + image_id + \".npy\")\n",
    "            val_img = np.load(\"data/Processed/val/\" + image_id + \".npy\")\n",
    "            bicubic_img = np.load(\"data/Processed/bicubic_480/\" + image_id + \".npy\")\n",
    "            cv.imwrite(\"data/Processed/images/train/\" + image_id + \".jpg\", train_img[:, :, 10] * 255)\n",
    "            cv.imwrite(\"data/Processed/images/val/\" + image_id + \".jpg\", val_img[:, :, 10] * 255)\n",
    "            cv.imwrite(\"data/Processed/images/bicubic_480/\" + image_id + \".jpg\", bicubic_img[:, :, 10] * 255)"
   ]
  },
  {
   "cell_type": "code",
   "execution_count": null,
   "metadata": {},
   "outputs": [],
   "source": [
    "# Load processed training image\n",
    "train_img = np.load(\"data/Processed/train/corn_m3.npy\")\n",
    "print(\"train: \", train_img.shape)\n",
    "\n",
    "# Load processed validation image\n",
    "val_img = np.load(\"data/Processed/val/barley_m3.npy\")\n",
    "print(\"val: \", val_img.shape)\n",
    "\n",
    "# Load processed bicubic image\n",
    "bicubic_img = np.load(\"data/Processed/bicubic/barley_m3.npy\")\n",
    "print(\"bicubic: \", bicubic_img.shape)"
   ]
  },
  {
   "cell_type": "markdown",
   "metadata": {},
   "source": [
    "# .npy Image Viewer"
   ]
  },
  {
   "cell_type": "code",
   "execution_count": null,
   "metadata": {},
   "outputs": [],
   "source": [
    "import numpy as np\n",
    "from ipywidgets import interact, IntSlider\n",
    "import matplotlib.pyplot as plt\n",
    "\n",
    "hr_wavelengths = [666, 679, 690, 704, 715, \n",
    "                  726, 739, 750, 764, 775, \n",
    "                  786, 800, 811, 822, 835, \n",
    "                  846, 860, 871, 882, 896, \n",
    "                  907, 918, 932, 943]\n",
    "\n",
    "def view_two_npy_images(channel=0):\n",
    "    # Load the images\n",
    "    image1 = np.load(hr_path)\n",
    "    image2 = np.load(sr_path)\n",
    "    \n",
    "    # Display the images\n",
    "    fig, axs = plt.subplots(1, 2, figsize=(12, 6))\n",
    "    fig.suptitle(f\"img: {img_id}, \\n model: {model}\", fontsize=16)\n",
    "    axs[0].imshow(image1[:, :, channel], vmin=0, vmax=1)\n",
    "    axs[0].set_title(f'HR Image - Channel: {channel}')\n",
    "    axs[0].axis('off')\n",
    "    \n",
    "    axs[1].imshow(image2[:, :, channel], vmin=0, vmax=1)\n",
    "    axs[1].set_title(f'SR Image - Channel: {channel}')\n",
    "    axs[1].axis('off')\n",
    "    \n",
    "    plt.show()\n",
    "\n",
    "\n",
    "def plot_values_per_wavelengths(hr_path, sr_path, wavelengths):\n",
    "    # Load the images\n",
    "    image1 = np.load(hr_path)\n",
    "    image2 = np.load(sr_path)\n",
    "    \n",
    "    # Calculate mean values per wavelength\n",
    "    mean_values_hr = image1.mean(axis=(0, 1))\n",
    "    mean_values_sr = image2.mean(axis=(0, 1))\n",
    "    \n",
    "    # Plot the values\n",
    "    plt.figure(figsize=(5, 5))\n",
    "    plt.plot(wavelengths, mean_values_hr, label='HR Image')\n",
    "    plt.plot(wavelengths, mean_values_sr, label='SR Image')\n",
    "    plt.xlabel('Wavelength (nm)')\n",
    "    plt.ylabel('Mean Value')\n",
    "    plt.ylim(0, 1)\n",
    "    plt.title('Mean Values per Wavelength')\n",
    "    plt.legend()\n",
    "    plt.show()\n",
    "\n",
    "\n",
    "img_id = \"pumpkin_l4\"\n",
    "model = \"HSI_x2_v3_50000\"\n",
    "\n",
    "# Load images\n",
    "hr_path = \"results/c_hr/\" + img_id + \".npy\"\n",
    "sr_path = \"results/models/\" + model + \"/sr/\" + img_id + \".npy\"\n",
    "# sr_path = \"data/processed/full_hsi/test/bonus_lr/pumpkin_lx4.npy\"\n",
    "# sr_path = \"results/c_bi_480/\" + img_id + \".npy\"\n",
    "# hr_path = \"results/models/\" + \"HSI_x2_v3_50000\" + \"/sr/\" + img_id + \".npy\"\n",
    "# sr_path = \"results/c_bi_480/\" + img_id + \".npy\"\n",
    "# hr_path = \"data/processed/full_hsi/hr/pumpkin_l3.npy\"\n",
    "# sr_path = \"data/processed/full_hsi/test/synth_240/\" + img_id + \".npy\"\n",
    "\n",
    "# Show images\n",
    "interact(view_two_npy_images, hr_path=hr_path, sr_path=sr_path, img_id=img_id, model=model, channel=IntSlider(min=0, max=23, step=1, value=0))\n",
    "\n",
    "# Show mean values per wavelength\n",
    "plot_values_per_wavelengths(hr_path, sr_path, hr_wavelengths)"
   ]
  },
  {
   "cell_type": "code",
   "execution_count": null,
   "metadata": {},
   "outputs": [],
   "source": [
    "import cv2 as cv\n",
    "import numpy as np\n",
    "\n",
    "# Example usage\n",
    "# image_path = \"Real-ESRGAN/inputs/pumpkin_m4.npy\"\n",
    "image_path = \"Real-ESRGAN/inputs/pumpkin_l4.npy\"\n",
    "# image_path = \"data/processed/full_hsi/test/synth_240/barley_s4.npy\"\n",
    "image = np.load(image_path)\n",
    "\n",
    "print(image.shape)\n",
    "print(type(image))\n",
    "\n",
    "print(image.max())\n",
    "print(image.min())"
   ]
  },
  {
   "cell_type": "code",
   "execution_count": null,
   "metadata": {},
   "outputs": [],
   "source": [
    "import numpy as np\n",
    "import os\n",
    "import random\n",
    "\n",
    "# Load all .npy files in the folder\n",
    "folder_path = \"data/processed/full_hsi/hr/\"\n",
    "npy_file_list = [os.path.join(folder_path, file) for file in os.listdir(folder_path) if file.endswith('.npy')]\n",
    "\n",
    "\n",
    "sum_values = None\n",
    "count = 0\n",
    "\n",
    "# Iterate through the random files and accumulate sum and count\n",
    "for npy_file in npy_file_list:\n",
    "\tdata = np.load(npy_file)\n",
    "\tif sum_values is None:\n",
    "\t\tsum_values = np.zeros(data.shape[-1])\n",
    "\tsum_values += np.sum(data, axis=(0, 1))\n",
    "\tcount += data.shape[0] * data.shape[1]\n",
    "\n",
    "# Calculate the mean and sd for each channel\n",
    "mean_values = sum_values / count\n",
    "\n",
    "\n",
    "# Initialize sum of squares\n",
    "sum_squares = np.zeros(data.shape[-1])\n",
    "\n",
    "# Iterate through the files again to calculate sum of squares\n",
    "for npy_file in npy_file_list:\n",
    "    data = np.load(npy_file)\n",
    "    sum_squares += np.sum((data - mean_values) ** 2, axis=(0, 1))\n",
    "\n",
    "# Calculate standard deviation\n",
    "sd_values = np.sqrt(sum_squares / count)\n",
    "\n",
    "\n",
    "\n",
    "print(\"Mean values for each channel:\", np.round(mean_values, 3))\n",
    "print(\"Standard deviation for each channel:\", np.round(sd_values, 3))"
   ]
  }
 ],
 "metadata": {
  "kernelspec": {
   "display_name": ".venv",
   "language": "python",
   "name": "python3"
  },
  "language_info": {
   "codemirror_mode": {
    "name": "ipython",
    "version": 3
   },
   "file_extension": ".py",
   "mimetype": "text/x-python",
   "name": "python",
   "nbconvert_exporter": "python",
   "pygments_lexer": "ipython3",
   "version": "3.10.12"
  }
 },
 "nbformat": 4,
 "nbformat_minor": 2
}
