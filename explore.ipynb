{
 "cells": [
  {
   "cell_type": "markdown",
   "metadata": {},
   "source": [
    "# Load Images"
   ]
  },
  {
   "cell_type": "markdown",
   "metadata": {},
   "source": [
    "## Compare hrHSI and Snapshot"
   ]
  },
  {
   "cell_type": "markdown",
   "metadata": {},
   "source": [
    "### Load HrHSI"
   ]
  },
  {
   "cell_type": "code",
   "execution_count": null,
   "metadata": {},
   "outputs": [],
   "source": [
    "from preprocessing import preprocessHrHSI\n",
    "\n",
    "# Specify paths\n",
    "hr_path = \"data/FX10/pumpkin_m2\"\n",
    "hr_mtx_path = 'calibration/hrHSI_matrix.npy'\n",
    "hr_dist_path = 'calibration/hrHSI_dist.npy'\n",
    "\n",
    "# Load and preprocess file\n",
    "hr_file = preprocessHrHSI(hr_path + \".hdf5\", hr_mtx_path, hr_dist_path)\n",
    "hr_img = hr_file[0]\n",
    "hr_wavelengths = hr_file[1]"
   ]
  },
  {
   "cell_type": "markdown",
   "metadata": {},
   "source": [
    "### Load Snapshot"
   ]
  },
  {
   "cell_type": "code",
   "execution_count": null,
   "metadata": {},
   "outputs": [],
   "source": [
    "from preprocessing import preprocessSnapshot\n",
    "\n",
    "# Specify paths\n",
    "ss_path = \"data/Snapshot/processed/train/pumpkin_m3/\"\n",
    "ss_mtx_path = 'calibration/snapshot_matrix.npy'\n",
    "ss_dist_path = 'calibration/snapshot_dist.npy'\n",
    "\n",
    "# Load and preprocess file\n",
    "ss_file = preprocessSnapshot(ss_path, ss_mtx_path, ss_dist_path)\n",
    "ss_img = ss_file[0]\n",
    "ss_wavelengths = ss_file[1]"
   ]
  },
  {
   "cell_type": "markdown",
   "metadata": {},
   "source": [
    "### Compare images"
   ]
  },
  {
   "cell_type": "code",
   "execution_count": null,
   "metadata": {},
   "outputs": [],
   "source": [
    "from align_images import align_images, plot_image_comparison\n",
    "\n",
    "# Set offsets and rotations\n",
    "x_off = (104, 1017)   # Full: (0, 1084)\n",
    "y_off = (189, 720)   # Full: (0, 1015)\n",
    "rot = -0.2\n",
    "shear = 0.017\n",
    "\n",
    "\n",
    "# Align images\n",
    "hr_img_al, ss_img_al = align_images(hr_img=hr_img,\n",
    "                                    ss_img=ss_img, \n",
    "                                    x_off=x_off, \n",
    "                                    y_off=y_off,\n",
    "                                    rot=rot,\n",
    "                                    shear=shear)\n",
    "\n",
    "\n",
    "\n",
    "\n",
    "# Plot image comparison\n",
    "plot_image_comparison(hr_img=hr_img_al, \n",
    "                      hr_wavelengths=hr_wavelengths, \n",
    "                      ss_img=ss_img_al, \n",
    "                      ss_wavelengths=ss_wavelengths, \n",
    "                      selected_pixel=(115, 220),\n",
    "                      selected_spectrum=715)"
   ]
  },
  {
   "cell_type": "markdown",
   "metadata": {},
   "source": [
    "## Compare aspect ratios"
   ]
  },
  {
   "cell_type": "code",
   "execution_count": null,
   "metadata": {},
   "outputs": [],
   "source": [
    "# Compare resolutions\n",
    "print(\"HrHSI1:\", hr_img_al.shape)\n",
    "print(\"Shapshot:\", ss_img_al.shape)\n",
    "print(\"\\n\")\n",
    "\n",
    "# Compare aspect ratio\n",
    "print(\"HrHSI:\", round(hr_img_al.shape[1] / hr_img_al.shape[0], 2))\n",
    "print(\"Shapshot:\", round(ss_img_al.shape[1] / ss_img_al.shape[0], 2))"
   ]
  },
  {
   "cell_type": "markdown",
   "metadata": {},
   "source": [
    "# Compare Fully Processed Images"
   ]
  },
  {
   "cell_type": "markdown",
   "metadata": {},
   "source": [
    "### Load hrHSI and go through full preprocessing pipeline"
   ]
  },
  {
   "cell_type": "code",
   "execution_count": null,
   "metadata": {},
   "outputs": [],
   "source": [
    "from preprocessing import preprocessFullHSI\n",
    "import matplotlib.pyplot as plt\n",
    "\n",
    "# Specify paths\n",
    "hr_path = 'data/FX10/pumpkin_m3.hdf5'\n",
    "hr_mtx_path = 'calibration/hrHSI_matrix.npy'\n",
    "hr_dist_path = 'calibration/hrHSI_dist.npy'\n",
    "\n",
    "# Snapshot dimensions and wavelengths\n",
    "ss_shape = (214, 405, 24)\n",
    "ss_wavelengths = [667, 679, 691, 703, 715, \n",
    "                  727, 739, 751, 763, 775, \n",
    "                  787, 799, 811, 823, 835, \n",
    "                  847, 859, 871, 883, 895, \n",
    "                  907, 919, 931, 943]\n",
    "\n",
    "\n",
    "# Set offsets and rotations\n",
    "x_off = (104, 1019)   # Full: (0, 1084)\n",
    "y_off = (189, 720)    # Full: (0, 1015)\n",
    "rot = -0.2\n",
    "shear = 0.017\n",
    "\n",
    "# Load and preprocess file\n",
    "hr_file = preprocessFullHSI(path_to_hdf5=hr_path, \n",
    "                            mtx_path=hr_mtx_path, \n",
    "                            dist_path=hr_dist_path, \n",
    "                            x_off=x_off, \n",
    "                            y_off=y_off, \n",
    "                            rot=rot, \n",
    "                            shear=shear, \n",
    "                            ss_shape=ss_shape, \n",
    "                            ss_wavelengths=ss_wavelengths)\n",
    "hr_img = hr_file[0]\n",
    "hr_wavelengths = hr_file[1]\n",
    "\n",
    "# Display image\n",
    "plt.imshow(hr_img[:, :, 3])\n",
    "plt.show()"
   ]
  },
  {
   "cell_type": "markdown",
   "metadata": {},
   "source": [
    "### Load snapshot"
   ]
  },
  {
   "cell_type": "code",
   "execution_count": null,
   "metadata": {},
   "outputs": [],
   "source": [
    "from preprocessing import preprocessSnapshot\n",
    "import matplotlib.pyplot as plt\n",
    "\n",
    "# Specify paths\n",
    "ss_path = \"data/Snapshot/processed/train/pumpkin_m3/\"\n",
    "ss_mtx_path = 'calibration/snapshot_matrix.npy'\n",
    "ss_dist_path = 'calibration/snapshot_dist.npy'\n",
    "\n",
    "# Load and preprocess file\n",
    "ss_file = preprocessSnapshot(ss_path, ss_mtx_path, ss_dist_path)\n",
    "\n",
    "# Store to variables\n",
    "ss_img = ss_file[0]\n",
    "ss_wavelengths = ss_file[1]\n",
    "\n",
    "\n",
    "plt.imshow(ss_img[:, :, 3])\n",
    "plt.show()"
   ]
  },
  {
   "cell_type": "markdown",
   "metadata": {},
   "source": [
    "### Show side by side comparison"
   ]
  },
  {
   "cell_type": "code",
   "execution_count": null,
   "metadata": {},
   "outputs": [],
   "source": [
    "from align_images import plot_image_comparison\n",
    "\n",
    "# Plot image comparison\n",
    "plot_image_comparison(hr_img=hr_img, \n",
    "                      hr_wavelengths=hr_wavelengths, \n",
    "                      ss_img=ss_img, \n",
    "                      ss_wavelengths=ss_wavelengths, \n",
    "                      selected_pixel=(115, 220),\n",
    "                      selected_spectrum=800)"
   ]
  },
  {
   "cell_type": "code",
   "execution_count": null,
   "metadata": {},
   "outputs": [],
   "source": [
    "print(ss_img.shape)\n",
    "print(hr_img.shape)\n",
    "\n",
    "# Print aspect ratio\n",
    "print(\"HrHSI:\", round(hr_img.shape[1] / hr_img.shape[0], 2))\n",
    "print(\"Shapshot:\", round(ss_img.shape[1] / ss_img.shape[0], 2))"
   ]
  },
  {
   "cell_type": "markdown",
   "metadata": {},
   "source": [
    "# Compare fully-processed files"
   ]
  },
  {
   "cell_type": "code",
   "execution_count": null,
   "metadata": {},
   "outputs": [],
   "source": [
    "import numpy as np\n",
    "\n",
    "# List of all grains\n",
    "grains = [\"spelt\", \"rye\", \"flax\", \"wheatgrass\", \"pumpkin\", \"sunflower\", \n",
    "          \"flaxb\", \"buckwheat\", \"millet\", \"barley\", \"mix\", \"corn\"]\n",
    "densities = [\"s\", \"m\", \"l\"]\n",
    "img_nos = [0, 1, 2, 3, 4]\n",
    "\n",
    "GRAIN = 4       # 0-11\n",
    "DENSITY = 1     # 0-2\n",
    "IMG_NO = 3      # 0-4\n",
    "\n",
    "# Select image\n",
    "image_id = grains[GRAIN] + \"_\" + densities[DENSITY] + str(img_nos[IMG_NO])\n",
    "\n",
    "train_img = np.load(\"data/Processed/train/\" + image_id + \".npy\")\n",
    "val_img = np.load(\"data/Processed/val/\" + image_id + \".npy\")\n",
    "\n",
    "\n",
    "# Plot images next to each other\n",
    "import matplotlib.pyplot as plt\n",
    "\n",
    "# Plot\n",
    "fig, axs = plt.subplots(1, 2, figsize=(10, 4))\n",
    "plt.tight_layout()\n",
    "fig.suptitle(image_id, fontsize=16)\n",
    "axs[0].axis('off')\n",
    "axs[1].axis('off')\n",
    "axs[0].imshow(train_img[:, :, 10])\n",
    "axs[1].imshow(val_img[:, :, 10])\n",
    "axs[0].set_title(\"Train\")\n",
    "axs[1].set_title(\"Val\")\n",
    "plt.show()\n",
    "\n",
    "\n",
    "# Save as b&w image\n",
    "import cv2 as cv\n",
    "cv.imwrite(\"data/Processed/images/\" + image_id + \"_train.jpg\", train_img[:, :, 10] * 255)\n",
    "cv.imwrite(\"data/Processed/images/\" + image_id + \"_val.jpg\", val_img[:, :, 10] * 255)\n",
    "\n",
    "# Print aspect ratios\n",
    "print(\"Train:\", round(train_img.shape[1] / train_img.shape[0], 2))\n",
    "print(\"Val:\", round(val_img.shape[1] / val_img.shape[0], 2))\n",
    "\n",
    "# Print shapes\n",
    "print(\"Train:\", train_img.shape)\n",
    "print(\"Val:\", val_img.shape)"
   ]
  },
  {
   "cell_type": "markdown",
   "metadata": {},
   "source": [
    "# Loop over all images to check for corruption"
   ]
  },
  {
   "cell_type": "code",
   "execution_count": null,
   "metadata": {},
   "outputs": [],
   "source": [
    "import numpy as np\n",
    "import cv2 as cv\n",
    "\n",
    "# List of all grains\n",
    "grains = [\"spelt\", \"rye\", \"flax\", \"wheatgrass\", \"pumpkin\", \"sunflower\", \n",
    "          \"flaxb\", \"buckwheat\", \"millet\", \"barley\", \"mix\", \"corn\"]\n",
    "densities = [\"s\", \"m\", \"l\"]\n",
    "img_nos = [0, 1, 2, 3, 4]\n",
    "\n",
    "\n",
    "for f in grains:\n",
    "    for d in densities:\n",
    "        for i in img_nos:\n",
    "            image_id = f + \"_\" + d + str(i)\n",
    "            train_img = np.load(\"data/Processed/train/\" + image_id + \".npy\")\n",
    "            val_img = np.load(\"data/Processed/val/\" + image_id + \".npy\")\n",
    "            cv.imwrite(\"data/Processed/images/\" + image_id + \"_train.jpg\", train_img[:, :, 10] * 255)\n",
    "            cv.imwrite(\"data/Processed/images/\" + image_id + \"_val.jpg\", val_img[:, :, 10] * 255)\n"
   ]
  }
 ],
 "metadata": {
  "kernelspec": {
   "display_name": ".venv",
   "language": "python",
   "name": "python3"
  },
  "language_info": {
   "codemirror_mode": {
    "name": "ipython",
    "version": 3
   },
   "file_extension": ".py",
   "mimetype": "text/x-python",
   "name": "python",
   "nbconvert_exporter": "python",
   "pygments_lexer": "ipython3",
   "version": "3.11.9"
  }
 },
 "nbformat": 4,
 "nbformat_minor": 2
}
