{
 "cells": [
  {
   "cell_type": "markdown",
   "metadata": {},
   "source": [
    "# Load Images"
   ]
  },
  {
   "cell_type": "markdown",
   "metadata": {},
   "source": [
    "## Compare hrHSI and Snapshot"
   ]
  },
  {
   "cell_type": "markdown",
   "metadata": {},
   "source": [
    "### Load HrHSI"
   ]
  },
  {
   "cell_type": "code",
   "execution_count": null,
   "metadata": {},
   "outputs": [],
   "source": [
    "from preprocessing import preprocessHrHSI\n",
    "\n",
    "# Specify paths\n",
    "hr_path = \"data/FX10/corn_m3\"\n",
    "hr_mtx_path = 'calibration/hrHSI_matrix.npy'\n",
    "hr_dist_path = 'calibration/hrHSI_dist.npy'\n",
    "\n",
    "# Load and preprocess file\n",
    "hr_file = preprocessHrHSI(hr_path + \".hdf5\", hr_mtx_path, hr_dist_path)\n",
    "hr_img = hr_file[0]\n",
    "hr_wavelengths = hr_file[1]"
   ]
  },
  {
   "cell_type": "code",
   "execution_count": null,
   "metadata": {},
   "outputs": [],
   "source": [
    "# Preview hrHSI\n",
    "from preprocessing import previewHrHSI\n",
    "previewHrHSI(hr_img, hr_wavelengths, \n",
    "             selected_pixel=(500, 500),\n",
    "             selected_spectrum=200)"
   ]
  },
  {
   "cell_type": "markdown",
   "metadata": {},
   "source": [
    "### Load Snapshot"
   ]
  },
  {
   "cell_type": "code",
   "execution_count": null,
   "metadata": {},
   "outputs": [],
   "source": [
    "from preprocessing import preprocessSnapshot\n",
    "\n",
    "# Specify paths\n",
    "ss_path = \"data/Snapshot/processed/train/corn_m3/\"\n",
    "ss_mtx_path = 'calibration/snapshot_matrix.npy'\n",
    "ss_dist_path = 'calibration/snapshot_dist.npy'\n",
    "ss_x_off = (0, 405)\n",
    "ss_y_off = (0, 214)\n",
    "\n",
    "# Load and preprocess file\n",
    "ss_file = preprocessSnapshot(ss_path, ss_mtx_path, ss_dist_path, ss_x_off, ss_y_off)\n",
    "ss_img = ss_file[0]\n",
    "ss_wavelengths = ss_file[1]"
   ]
  },
  {
   "cell_type": "code",
   "execution_count": null,
   "metadata": {},
   "outputs": [],
   "source": [
    "# Preview snapshot\n",
    "from preprocessing import previewSnapshot\n",
    "previewSnapshot(ss_img, ss_wavelengths, \n",
    "                 selected_pixel=(100, 150),\n",
    "                 selected_spectrum=12)\n",
    "\n",
    "ss_img.shape"
   ]
  },
  {
   "cell_type": "markdown",
   "metadata": {},
   "source": [
    "### Compare images"
   ]
  },
  {
   "cell_type": "code",
   "execution_count": null,
   "metadata": {},
   "outputs": [],
   "source": [
    "from align_images import align_images, plot_image_comparison\n",
    "\n",
    "# Set offsets and rotations\n",
    "hr_x_off = (106, 1018)   # Full: (0, 1084) # Previous: (104, 1019)\n",
    "hr_y_off = (189, 720)   # Full: (0, 1015) # Previous: (189, 720)\n",
    "rot = -0.2\n",
    "shear = 0.017\n",
    "# rot = 0\n",
    "# shear = 0\n",
    "\n",
    "ss_x_off = (3, 402)\n",
    "ss_y_off = (2, 212)\n",
    "\n",
    "\n",
    "# Align images\n",
    "hr_img_al, ss_img_al = align_images(hr_img=hr_img,\n",
    "                                    ss_img=ss_img, \n",
    "                                    ss_x_off=ss_x_off,\n",
    "                                    ss_y_off=ss_y_off,\n",
    "                                    hr_x_off=hr_x_off, \n",
    "                                    hr_y_off=hr_y_off,\n",
    "                                    rot=rot,\n",
    "                                    shear=shear)\n",
    "\n",
    "\n",
    "\n",
    "\n",
    "# Plot image comparison\n",
    "plot_image_comparison(hr_img=hr_img_al, \n",
    "                      hr_wavelengths=hr_wavelengths, \n",
    "                      ss_img=ss_img_al, \n",
    "                      ss_wavelengths=ss_wavelengths, \n",
    "                      selected_pixel=(115, 220),\n",
    "                      selected_spectrum=715)"
   ]
  },
  {
   "cell_type": "markdown",
   "metadata": {},
   "source": [
    "## Compare aspect ratios"
   ]
  },
  {
   "cell_type": "code",
   "execution_count": null,
   "metadata": {},
   "outputs": [],
   "source": [
    "# Compare resolutions\n",
    "print(\"HrHSI:\", hr_img_al.shape)\n",
    "print(\"Shapshot:\", ss_img_al.shape)\n",
    "print(\"\\n\")\n",
    "\n",
    "# Compare aspect ratio\n",
    "print(\"HrHSI:\", round(hr_img_al.shape[1] / hr_img_al.shape[0], 6))\n",
    "print(\"Shapshot:\", round(ss_img_al.shape[1] / ss_img_al.shape[0], 6))\n",
    "\n",
    "# Difference between aspect ratios\n",
    "print(\"Difference:\", round((hr_img_al.shape[1] / hr_img_al.shape[0]) - (ss_img_al.shape[1] / ss_img_al.shape[0]), 6))"
   ]
  },
  {
   "cell_type": "markdown",
   "metadata": {},
   "source": [
    "# Compare Fully Processed Images"
   ]
  },
  {
   "cell_type": "markdown",
   "metadata": {},
   "source": [
    "### Load hrHSI and go through full preprocessing pipeline"
   ]
  },
  {
   "cell_type": "code",
   "execution_count": null,
   "metadata": {},
   "outputs": [],
   "source": [
    "from preprocessing import preprocessFullHSI\n",
    "import matplotlib.pyplot as plt\n",
    "\n",
    "# Specify paths\n",
    "hr_path = 'data/FX10/spelt_s3.hdf5'\n",
    "hr_mtx_path = 'calibration/hrHSI_matrix.npy'\n",
    "hr_dist_path = 'calibration/hrHSI_dist.npy'\n",
    "\n",
    "# Snapshot dimensions and wavelengths\n",
    "# ss_shape = (210, 399, 24)\n",
    "ss_shape = (210, 210, 24) # Square\n",
    "ss_wavelengths = [667, 679, 691, 703, 715, \n",
    "                  727, 739, 751, 763, 775, \n",
    "                  787, 799, 811, 823, 835, \n",
    "                  847, 859, 871, 883, 895, \n",
    "                  907, 919, 931, 943]\n",
    "\n",
    "\n",
    "# Set offsets and rotations\n",
    "# hr_x_off = (106, 1018)   # Full: (0, 1084)\n",
    "# hr_y_off = (189, 720)    # Full: (0, 1015)\n",
    "hr_x_off = (110, 590)   # Square\n",
    "hr_y_off = (191, 719)   # Square\n",
    "rot = -0.3\n",
    "shear = 0.02\n",
    "# rot = -0.2\n",
    "# shear = 0.017\n",
    "\n",
    "# Load and preprocess file\n",
    "hr_file = preprocessFullHSI(path_to_hdf5=hr_path, \n",
    "                            mtx_path=hr_mtx_path, \n",
    "                            dist_path=hr_dist_path, \n",
    "                            hr_x_off=hr_x_off, \n",
    "                            hr_y_off=hr_y_off, \n",
    "                            rot=rot, \n",
    "                            shear=shear, \n",
    "                            ss_shape=ss_shape, \n",
    "                            ss_wavelengths=ss_wavelengths)\n",
    "hr_img = hr_file[0]\n",
    "hr_wavelengths = hr_file[1]\n",
    "\n",
    "# Display image\n",
    "plt.imshow(hr_img[:, :, 3])\n",
    "plt.show()\n",
    "\n",
    "print(hr_img.shape)"
   ]
  },
  {
   "cell_type": "markdown",
   "metadata": {},
   "source": [
    "### Load snapshot"
   ]
  },
  {
   "cell_type": "code",
   "execution_count": null,
   "metadata": {},
   "outputs": [],
   "source": [
    "from preprocessing import preprocessSnapshot\n",
    "import matplotlib.pyplot as plt\n",
    "\n",
    "# Specify paths\n",
    "ss_path = \"data/Snapshot/processed/train/spelt_s3/\"\n",
    "ss_mtx_path = 'calibration/snapshot_matrix.npy'\n",
    "ss_dist_path = 'calibration/snapshot_dist.npy'\n",
    "\n",
    "# Load and preprocess file\n",
    "# ss_x_off = (3, 402)\n",
    "# ss_y_off = (2, 212)\n",
    "ss_x_off = (3, 213)\n",
    "ss_y_off = (2, 212)\n",
    "\n",
    "ss_file = preprocessSnapshot(ss_path, ss_mtx_path, ss_dist_path, ss_x_off, ss_y_off)\n",
    "\n",
    "# Store to variables\n",
    "ss_img = ss_file[0]\n",
    "ss_wavelengths = ss_file[1]\n",
    "\n",
    "\n",
    "plt.imshow(ss_img[:, :, 3])\n",
    "plt.show()\n",
    "\n",
    "print(ss_img.shape)"
   ]
  },
  {
   "cell_type": "markdown",
   "metadata": {},
   "source": [
    "### Show side by side comparison"
   ]
  },
  {
   "cell_type": "code",
   "execution_count": null,
   "metadata": {},
   "outputs": [],
   "source": [
    "from align_images import plot_image_comparison\n",
    "\n",
    "# Plot image comparison\n",
    "plot_image_comparison(hr_img=hr_img, \n",
    "                      hr_wavelengths=hr_wavelengths, \n",
    "                      ss_img=ss_img, \n",
    "                      ss_wavelengths=ss_wavelengths, \n",
    "                      selected_pixel=(100, 100),\n",
    "                      selected_spectrum=800)"
   ]
  },
  {
   "cell_type": "code",
   "execution_count": null,
   "metadata": {},
   "outputs": [],
   "source": [
    "print(ss_img.shape)\n",
    "print(hr_img.shape)\n",
    "\n",
    "# Print aspect ratio\n",
    "print(\"HrHSI:\", round(hr_img.shape[1] / hr_img.shape[0], 6))\n",
    "print(\"Shapshot:\", round(ss_img.shape[1] / ss_img.shape[0], 6))"
   ]
  },
  {
   "cell_type": "markdown",
   "metadata": {},
   "source": [
    "# Compare fully-processed files"
   ]
  },
  {
   "cell_type": "code",
   "execution_count": null,
   "metadata": {},
   "outputs": [],
   "source": [
    "import numpy as np\n",
    "\n",
    "# List of all grains\n",
    "grains = [\"spelt\", \"rye\", \"flax\", \"wheatgrass\", \"pumpkin\", \"sunflower\", \n",
    "          \"flaxb\", \"buckwheat\", \"millet\", \"barley\", \"mix\", \"corn\"]\n",
    "\n",
    "# Select image\n",
    "image_id = \"pumpkin_s3\"\n",
    "\n",
    "train_img = np.load(\"data/processed/full_hsi/lr/\" + image_id + \".npy\")\n",
    "val_img = np.load(\"data/processed/full_hsi/hr/\" + image_id + \".npy\")\n",
    "\n",
    "\n",
    "# Plot images next to each other\n",
    "import matplotlib.pyplot as plt\n",
    "\n",
    "# Plot\n",
    "fig, axs = plt.subplots(1, 2, figsize=(10, 4))\n",
    "# plt.tight_layout()\n",
    "fig.suptitle(image_id, fontsize=16)\n",
    "axs[0].axis('off')\n",
    "axs[1].axis('off')\n",
    "axs[0].imshow(train_img[:, :, 10])\n",
    "axs[1].imshow(val_img[:, :, 10])\n",
    "axs[0].set_title(\"Train (Snapshot)\")\n",
    "axs[1].set_title(\"Val (hrHSI)\")\n",
    "plt.show()\n",
    "\n",
    "# Print aspect ratios\n",
    "print(\"Train:\", round(train_img.shape[1] / train_img.shape[0], 6))\n",
    "print(\"Val:\", round(val_img.shape[1] / val_img.shape[0], 6))\n",
    "\n",
    "# Print shapes\n",
    "print(\"Train:\", train_img.shape)\n",
    "print(\"Val:\", val_img.shape)"
   ]
  },
  {
   "cell_type": "code",
   "execution_count": null,
   "metadata": {},
   "outputs": [],
   "source": [
    "import cv2 as cv\n",
    "import numpy as np\n",
    "import os\n",
    "\n",
    "def npy_to_rgb(input_folder, target_folder):\n",
    "\n",
    "    # List all images in the folder\n",
    "    inputs = os.listdir(input_folder)\n",
    "    print(inputs)\n",
    "\n",
    "    for file_name in inputs:\n",
    "        # Read the image using OpenCV\n",
    "        image = np.load(input_folder + file_name)\n",
    "        \n",
    "        # Select only 3 channels\n",
    "        rgb_array = image[:, :, [0, 12, 23]]\n",
    "\n",
    "        # Save the npy file in target folder\n",
    "        np.save(target_folder + file_name.split('/')[-1][:-4] + \".npy\", rgb_array)\n",
    "\n",
    "\n",
    "# Example usage\n",
    "input_folder = \"data/Processed/bicubic_480/\"\n",
    "target_folder = \"data/Processed/rgb_array/bi_480/\"\n",
    "rgb_array = npy_to_rgb(input_folder, target_folder)"
   ]
  },
  {
   "cell_type": "markdown",
   "metadata": {},
   "source": [
    "# Loop over all images to check for corruption"
   ]
  },
  {
   "cell_type": "code",
   "execution_count": null,
   "metadata": {},
   "outputs": [],
   "source": [
    "import numpy as np\n",
    "import cv2 as cv\n",
    "\n",
    "# List of all grains\n",
    "grains = [\"spelt\", \"rye\", \"flax\", \"wheatgrass\", \"pumpkin\", \"sunflower\", \n",
    "          \"flaxb\", \"buckwheat\", \"millet\", \"barley\", \"mix\", \"corn\"]\n",
    "densities = [\"s\", \"m\", \"l\"]\n",
    "img_nos = [0, 1, 2, 3, 4]\n",
    "\n",
    "\n",
    "for f in grains:\n",
    "    for d in densities:\n",
    "        for i in img_nos:\n",
    "            image_id = f + \"_\" + d + str(i)\n",
    "            train_img = np.load(\"data/Processed/train/\" + image_id + \".npy\")\n",
    "            val_img = np.load(\"data/Processed/val/\" + image_id + \".npy\")\n",
    "            bicubic_img = np.load(\"data/Processed/bicubic_480/\" + image_id + \".npy\")\n",
    "            cv.imwrite(\"data/Processed/images/train/\" + image_id + \".jpg\", train_img[:, :, 10] * 255)\n",
    "            cv.imwrite(\"data/Processed/images/val/\" + image_id + \".jpg\", val_img[:, :, 10] * 255)\n",
    "            cv.imwrite(\"data/Processed/images/bicubic_480/\" + image_id + \".jpg\", bicubic_img[:, :, 10] * 255)"
   ]
  },
  {
   "cell_type": "code",
   "execution_count": null,
   "metadata": {},
   "outputs": [],
   "source": [
    "# Load processed training image\n",
    "train_img = np.load(\"data/Processed/train/corn_m3.npy\")\n",
    "print(\"train: \", train_img.shape)\n",
    "\n",
    "# Load processed validation image\n",
    "val_img = np.load(\"data/Processed/val/barley_m3.npy\")\n",
    "print(\"val: \", val_img.shape)\n",
    "\n",
    "# Load processed bicubic image\n",
    "bicubic_img = np.load(\"data/Processed/bicubic/barley_m3.npy\")\n",
    "print(\"bicubic: \", bicubic_img.shape)"
   ]
  },
  {
   "cell_type": "code",
   "execution_count": null,
   "metadata": {},
   "outputs": [],
   "source": [
    "print(train_img.min())"
   ]
  },
  {
   "cell_type": "code",
   "execution_count": null,
   "metadata": {},
   "outputs": [],
   "source": [
    "import os\n",
    "import numpy as np\n",
    "import pandas as pd\n",
    "import torch\n",
    "from torch.utils.data import Dataset, DataLoader\n",
    "import cv2 as cv\n",
    "\n",
    "class PairedDataset(Dataset):\n",
    "    def __init__(self, train_folder, val_folder, transform=None):\n",
    "        self.train_folder = train_folder\n",
    "        self.val_folder = val_folder\n",
    "        self.transform = transform\n",
    "        self.train_files = sorted(os.listdir(train_folder))\n",
    "        self.val_files = sorted(os.listdir(val_folder))\n",
    "        self.paired_files = [(train_file, val_file) for train_file, val_file in zip(self.train_files, self.val_files) if train_file == val_file]\n",
    "\n",
    "    def __len__(self):\n",
    "        return len(self.paired_files)\n",
    "\n",
    "    def __getitem__(self, idx):\n",
    "        train_file, val_file = self.paired_files[idx]\n",
    "        train_image = np.load(os.path.join(self.train_folder, train_file))\n",
    "        val_image = np.load(os.path.join(self.val_folder, val_file))\n",
    "        \n",
    "        # Interpolate train image to (480, 912, 24)\n",
    "        train_image = cv.resize(train_image, (912, 480), interpolation=cv.INTER_LINEAR)\n",
    "\n",
    "        # Make both images square (480, 480)\n",
    "        train_image = train_image[:, 216:696]\n",
    "        val_image = val_image[:, 216:696]\n",
    "        \n",
    "        \n",
    "        if self.transform:\n",
    "            train_image = self.transform(train_image)\n",
    "            val_image = self.transform(val_image)\n",
    "        \n",
    "        return train_image, val_image\n",
    "\n",
    "# Paths to training and validation images\n",
    "train_folder = \"data/Processed/train\"\n",
    "val_folder = \"data/Processed/val\"\n",
    "\n",
    "# Example usage\n",
    "paired_dataset = PairedDataset(train_folder, val_folder)\n",
    "# paired_loader = DataLoader(paired_dataset, batch_size=4, shuffle=True)\n",
    "loader = DataLoader(paired_dataset, batch_size=4, shuffle = True, drop_last = True, num_workers = 2)\n",
    "\n",
    "# Display two images next to each other\n",
    "import matplotlib.pyplot as plt\n",
    "\n",
    "fig, axs = plt.subplots(1, 2, figsize=(10, 4))\n",
    "plt.tight_layout()\n",
    "\n",
    "axs[0].imshow(loader.dataset[38][0][:, :, 10])\n",
    "axs[1].imshow(loader.dataset[38][1][:, :, 10])\n",
    "axs[0].set_title(\"Train (Snapshot)\")\n",
    "axs[1].set_title(\"Val (hrHSI)\")\n",
    "plt.show()\n"
   ]
  }
 ],
 "metadata": {
  "kernelspec": {
   "display_name": ".venv",
   "language": "python",
   "name": "python3"
  },
  "language_info": {
   "codemirror_mode": {
    "name": "ipython",
    "version": 3
   },
   "file_extension": ".py",
   "mimetype": "text/x-python",
   "name": "python",
   "nbconvert_exporter": "python",
   "pygments_lexer": "ipython3",
   "version": "3.10.12"
  }
 },
 "nbformat": 4,
 "nbformat_minor": 2
}
